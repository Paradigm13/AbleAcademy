{
 "cells": [
  {
   "cell_type": "markdown",
   "metadata": {},
   "source": [
    "### Проект 5 [Одобрение кредита]"
   ]
  },
  {
   "cell_type": "markdown",
   "metadata": {},
   "source": [
    "Вам предоставляется набор данных. Набор данных уже разделен на ```train_data.csv``` и ```test_data.csv```.\n",
    "\n",
    "**Цель:** построить модели для **одобрения кредита** (```\"Credit Default\"```).\n",
    "\n",
    "Пожалуйста, включите подробные объяснения следующих шагов:\n",
    "\n",
    "1. Очистка, предварительная обработка данных, и Exploratory Data Analysis\n",
    "\n",
    "2. Обучение и проверка моделей.\n",
    "\n",
    "3. Сравнение моделей на основе метрик классификации: ```F-score```, ```Precision```, ```Recall```.\n",
    "\n",
    "**Примечание:** вам **рекомендуется** искать так же другие алгоритмы машинного обучения в Интернете (не ограничиваясь материалом курса), но вы должны изучить и понять эти алгоритмы. Вы не можете удалить ни одну строку в файле ```test_data.csv```."
   ]
  },
  {
   "cell_type": "code",
   "execution_count": null,
   "metadata": {},
   "outputs": [],
   "source": []
  }
 ],
 "metadata": {
  "kernelspec": {
   "display_name": "Python 3",
   "language": "python",
   "name": "python3"
  },
  "language_info": {
   "codemirror_mode": {
    "name": "ipython",
    "version": 3
   },
   "file_extension": ".py",
   "mimetype": "text/x-python",
   "name": "python",
   "nbconvert_exporter": "python",
   "pygments_lexer": "ipython3",
   "version": "3.6.8"
  }
 },
 "nbformat": 4,
 "nbformat_minor": 2
}
