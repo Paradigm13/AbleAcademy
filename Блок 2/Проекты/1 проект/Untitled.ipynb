{
 "cells": [
  {
   "cell_type": "code",
   "execution_count": 3,
   "id": "99fbd259",
   "metadata": {},
   "outputs": [
    {
     "name": "stdout",
     "output_type": "stream",
     "text": [
      "30000\n",
      "3000\n",
      "33000\n"
     ]
    }
   ],
   "source": [
    "from functools import reduce\n",
    "\n",
    "numbers = [\n",
    "    input(),\n",
    "    input()\n",
    "]\n",
    "result = reduce(lambda x, y: x + y, map(lambda i: int(i), numbers))\n",
    "print(result)"
   ]
  },
  {
   "cell_type": "code",
   "execution_count": 6,
   "id": "50b76d3f",
   "metadata": {},
   "outputs": [
    {
     "name": "stdout",
     "output_type": "stream",
     "text": [
      "1 2 1 4\n",
      "NO\n"
     ]
    }
   ],
   "source": [
    "heights = list(map(int, input().split()))\n",
    "if heights == sorted(heights) or heights == sorted(heights, reverse=True):\n",
    "    print(\"YES\")\n",
    "else:\n",
    "    print(\"NO\")"
   ]
  },
  {
   "cell_type": "code",
   "execution_count": 15,
   "id": "2edd7bc9",
   "metadata": {},
   "outputs": [
    {
     "name": "stdout",
     "output_type": "stream",
     "text": [
      "2 3 2\n",
      "2\n",
      "3\n",
      "2\n"
     ]
    }
   ],
   "source": [
    "a,b,c = map(int, input().split())\n",
    "print(a)\n",
    "print(b)\n",
    "print(c)"
   ]
  },
  {
   "cell_type": "code",
   "execution_count": 23,
   "id": "4195db59",
   "metadata": {},
   "outputs": [
    {
     "name": "stdout",
     "output_type": "stream",
     "text": [
      "7 3 2\n",
      "5\n"
     ]
    }
   ],
   "source": [
    "n, m, k = map(int, input().split())\n",
    "\n",
    "res = (n * k + m - 1)// m \n",
    "print(res)"
   ]
  },
  {
   "cell_type": "code",
   "execution_count": 27,
   "id": "4fbc1d80",
   "metadata": {},
   "outputs": [
    {
     "name": "stdout",
     "output_type": "stream",
     "text": [
      "12\n",
      "aabbccddbadd\n",
      "5\n"
     ]
    }
   ],
   "source": [
    "n = int(input()) # 12\n",
    "s = str(input()) # aabbccddbadd\n",
    "\n",
    "if len(set(s)) < 4:\n",
    "    print(-1)\n",
    "    \n",
    "else:\n",
    "    window = {s[0]: 1}\n",
    "    left = 0\n",
    "    min_length = float('inf')\n",
    "\n",
    "    for right in range(1, n):\n",
    "        window[s[right]] = window.get(s[right], 0) + 1\n",
    "\n",
    "        while len(window) == 4 and window[s[left]] > 1:\n",
    "            window[s[left]] -= 1\n",
    "            left += 1\n",
    "\n",
    "        if len(window) == 4:\n",
    "            min_length = min(min_length, right - left + 1)\n",
    "\n",
    "    print(min_length)"
   ]
  },
  {
   "cell_type": "code",
   "execution_count": 29,
   "id": "fd6f6a40",
   "metadata": {},
   "outputs": [
    {
     "data": {
      "text/plain": [
       "{'a', 'b', 'c', 'd'}"
      ]
     },
     "execution_count": 29,
     "metadata": {},
     "output_type": "execute_result"
    }
   ],
   "source": [
    "set(\"aabbccddbadd\")"
   ]
  },
  {
   "cell_type": "code",
   "execution_count": 31,
   "id": "43c7b02f",
   "metadata": {},
   "outputs": [
    {
     "name": "stdout",
     "output_type": "stream",
     "text": [
      "10\n",
      "1 2 4 2 3 1 3 9 15 23\n",
      "2\n"
     ]
    }
   ],
   "source": [
    "n = int(input())\n",
    "a = list(map(int, input().split()))\n",
    "\n",
    "d = {}\n",
    "l = 0\n",
    "for i in range(n):\n",
    "    d[a[i]] = d.get(a[i], 0) + 1\n",
    "    if len(d) <= 2 and max(d.values()) - min(d.values()) <= 1:\n",
    "        l = i + 1\n",
    "    else:\n",
    "        break\n",
    "\n",
    "print(l)"
   ]
  },
  {
   "cell_type": "code",
   "execution_count": 36,
   "id": "c26d249c",
   "metadata": {},
   "outputs": [
    {
     "name": "stdout",
     "output_type": "stream",
     "text": [
      "5\n",
      "1 2 3 4 5\n",
      "5\n"
     ]
    }
   ],
   "source": [
    "n = int(input())\n",
    "a = list(map(int, input().split()))\n",
    "\n",
    "count = {}\n",
    "max_l = 0\n",
    "\n",
    "for i in range(n):\n",
    "    if a[i] not in count:\n",
    "        count[a[i]] = 0\n",
    "    count[a[i]] += 1\n",
    "\n",
    "    valid = True\n",
    "    min_count = min(count.values())\n",
    "    max_count = max(count.values())\n",
    "\n",
    "    if max_count - min_count > 1:\n",
    "        valid = False\n",
    "    elif max_count - min_count == 1:\n",
    "        if list(count.values()).count(max_count) > 1:\n",
    "            valid = False\n",
    "\n",
    "    if valid:\n",
    "        max_l = i + 1\n",
    "\n",
    "print(max_l)"
   ]
  },
  {
   "cell_type": "code",
   "execution_count": 39,
   "id": "e9bb5f92",
   "metadata": {},
   "outputs": [
    {
     "data": {
      "text/plain": [
       "5"
      ]
     },
     "execution_count": 39,
     "metadata": {},
     "output_type": "execute_result"
    }
   ],
   "source": [
    "len(set([1, 2, 3, 1, 2, 2, 3, 3, 3, 1, 4, 4, 5]))"
   ]
  },
  {
   "cell_type": "code",
   "execution_count": 41,
   "id": "b3be5eb9",
   "metadata": {},
   "outputs": [
    {
     "name": "stdout",
     "output_type": "stream",
     "text": [
      "3 27\n",
      "11 14\n",
      "2 10\n",
      "11 14\n",
      "25\n"
     ]
    }
   ],
   "source": [
    "n, s = map(int, input().split())\n",
    "a = []\n",
    "for i in range(n):\n",
    "    l, r = map(int, input().split())\n",
    "    a.append((l, r))\n",
    "a.sort()  # сортируем все баллы\n",
    "\n",
    "# ищем максимально возможный медианный балл\n",
    "left, right = 1, 10**9\n",
    "while left < right:\n",
    "    mid = (left + right + 1) // 2\n",
    "    b = [max(l, mid - r) for l, r in a]\n",
    "    b.sort()  # сортируем минимальные баллы\n",
    "    if sum(b[n // 2:]) <= s:  # проверяем, что сумма не превосходит s\n",
    "        left = mid\n",
    "    else:\n",
    "        right = mid - 1\n",
    "\n",
    "print(left)"
   ]
  },
  {
   "cell_type": "code",
   "execution_count": 45,
   "id": "c461b7fc",
   "metadata": {},
   "outputs": [
    {
     "name": "stdout",
     "output_type": "stream",
     "text": [
      "100  10  12  1\n",
      "100\n"
     ]
    }
   ],
   "source": [
    "# A - tafiff price \n",
    "# B - tariff size\n",
    "# C - the cost of extra mb\n",
    "# D - tariff size in next month\n",
    "A, B, C, D = map(int, input().split())\n",
    "\n",
    "if D > B:\n",
    "    total_amount = A + (C * (D - B))\n",
    "else: \n",
    "    total_amount = A\n",
    "print(total_amount)"
   ]
  },
  {
   "cell_type": "code",
   "execution_count": null,
   "id": "cd830702",
   "metadata": {},
   "outputs": [],
   "source": []
  }
 ],
 "metadata": {
  "kernelspec": {
   "display_name": "Python 3 (ipykernel)",
   "language": "python",
   "name": "python3"
  },
  "language_info": {
   "codemirror_mode": {
    "name": "ipython",
    "version": 3
   },
   "file_extension": ".py",
   "mimetype": "text/x-python",
   "name": "python",
   "nbconvert_exporter": "python",
   "pygments_lexer": "ipython3",
   "version": "3.9.13"
  }
 },
 "nbformat": 4,
 "nbformat_minor": 5
}
